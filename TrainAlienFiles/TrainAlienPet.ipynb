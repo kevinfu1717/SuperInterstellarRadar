{
 "cells": [
  {
   "cell_type": "markdown",
   "metadata": {
    "collapsed": false
   },
   "source": [
    "# Paddle2.0-通过LSGAN让我们看看AI预测的外星人长什么样子\n",
    "\n",
    "**先看看生成效果：**\n",
    "\n",
    "\n",
    "![](https://ai-studio-static-online.cdn.bcebos.com/438b037522e34dfeb968ee7fe74fb8fedda60ebb35e642dabe5d29d35a5298ee)\n",
    "\n",
    " - 本项目将通过爬取外星人矢量图，训练一个生成对抗网络（GAN）来产生新的外星人。为了节省时间，请尽量选择GPU进行训练。\n",
    " - 本项目的综合应用请见项目：**星际终端**"
   ]
  },
  {
   "cell_type": "markdown",
   "metadata": {
    "collapsed": false
   },
   "source": [
    "## 2 参数设置及数据集准备\n",
    "\n",
    "### 2.1 爬取外星人图片\n",
    "\n",
    " - 从百度爬取关键词为“外星人 矢量”的图片。直接用“外星人”为关键词的图片感觉风格太乱了，不好训练。\n",
    " \n",
    "  - 爬虫代码源自最早的项目，可以爬取任意数量，任意关键词图片，训练利器：[Paddle2.0+ imgaug数据增广,新年“集福”示例,年年都有无尽的福](http://https://aistudio.baidu.com/aistudio/projectdetail/1537167?shared=1) "
   ]
  },
  {
   "cell_type": "code",
   "execution_count": 1,
   "metadata": {
    "collapsed": false
   },
   "outputs": [],
   "source": [
    "import requests\r\n",
    "import re\r\n",
    "import os\r\n",
    "import time\r\n",
    "\r\n",
    "##\r\n",
    "def client():\r\n",
    "    global search_words\r\n",
    "    global pages\r\n",
    "    global end_pages\r\n",
    "    global start_pages\r\n",
    "    search_words = '外星人 矢量'\r\n",
    "    start_pages = 1 ##看我们要下多少页的数据\r\n",
    "    end_pages = 60\r\n",
    "\r\n",
    "        \r\n",
    "#图片爬取函数\r\n",
    "def Pictures_Crawling(indexName=True):\r\n",
    "    index=100000\r\n",
    "    !mkdir pic/\r\n",
    "    for page in range(start_pages,end_pages):\r\n",
    "        url = 'https://image.baidu.com/search/flip?tn=baiduimage&ie=utf-8&word={}&pn={}'.format(search_words, page)\r\n",
    "        #url = 'https://image.baidu.com/search/index?tn=baiduimage&ipn=r&ct=201326592&cl=2&lm=-1&st=-1&fm=result&fr=&sf=1&fmq=1600582955784_R&pv=&ic=0&nc=1&z=&hd=&latest=&copyright=&se=1&showtab=0&fb=0&width=&height=&face=0&istype=2&ie=utf-8&sid=&word=%E9%81%93%E8%B7%AF%E7%A6%81%E6%AD%A2%E8%B7%AF%E6%A0%87'\r\n",
    "        #伪装浏览器请求头\r\n",
    "        headers={\r\n",
    "            'user-agent': 'Mozilla / 5.0(Windows NT 10.0;Win64;x64) AppleWebKit / 537.36(KHTML, like Gecko) Chrome / 84.0 .4147.89Safari / 537.36'\r\n",
    "                }\r\n",
    "        \r\n",
    "        #获取网站源码\r\n",
    "        html = requests.get(url,headers=headers)\r\n",
    "        #获取真实的url\r\n",
    "        urls_real = re.findall('\"thumbURL\":\"(.*?)\",', html.text)\r\n",
    "        print('图片url数量',len(urls_real))\r\n",
    "        #print(urls_real)\r\n",
    "        #筛选资源url，并返回元组\r\n",
    "        #urls = re.findall(r'<img alt=\"\" src=\"(http://.*?.jpg)\" ',html.text)\r\n",
    "        #资源存放文件夹路径\r\n",
    "        root = 'pic/'\r\n",
    "        #print(urls_real)\r\n",
    "        for i in urls_real :\r\n",
    "            subname=i.split('/')[-1]#资源存放名称 eg:'u=4117662774,1210746205&fm=193'\r\n",
    "            if indexName:\r\n",
    "                filename=str(index)+'.png'\r\n",
    "                index+=1\r\n",
    "            else:\r\n",
    "                try:\r\n",
    "                    check=re.findall(r\"=(.+?)&\",subname)\r\n",
    "                    if len(check)==0:\r\n",
    "                        filename=subname\r\n",
    "                    else:\r\n",
    "                        filename=re.findall(r\"=(.+?)&\",subname)[0].replace(',','')+'.png'\r\n",
    "                except Exception as e:\r\n",
    "                    \r\n",
    "                    print(e)\r\n",
    "                    print (subname)\r\n",
    "                    filename=str(time.time())+'.png'\r\n",
    "            path = root + filename #资源存放点+资源存放名称\r\n",
    "            #print(path)\r\n",
    "            #i='https:\\\\/\\\\/ns-strategy.cdn.bcebos.com\\\\/ns-strategy\\\\/upload\\\\/fc_big_pic\\\\/part-00094-2012.jpg'\r\n",
    "            if '\\\\/' in i:\r\n",
    "                print('ii',i)\r\n",
    "                i=i.replace('\\\\','')\r\n",
    "                print('ii',i)\r\n",
    "            #print(i)\r\n",
    "                \r\n",
    "            image_data = requests.get(i,headers=headers)\r\n",
    "            with open(path, 'wb')as f:  #将图片以二进制写入\r\n",
    "                f.write(image_data.content)\r\n",
    "            #print('save ',path,i)\r\n",
    "    print('total index',index)       \r\n",
    "runpic=False\r\n",
    "#没有图片文件夹就取爬图片\r\n",
    "if not os.path.exists('pic') or runpic:\r\n",
    "    !mkdir pic/\r\n",
    "    client()\r\n",
    "    Pictures_Crawling()"
   ]
  },
  {
   "cell_type": "markdown",
   "metadata": {
    "collapsed": false
   },
   "source": [
    "### 2.2 定义Config参数\n",
    "\n",
    "定义训练参数，并写入到txt中，以备后续翻查。\n",
    "\n",
    "\n",
    "**设置的超参数为：**\n",
    "\n",
    " * 学习率：0.0001\n",
    " * 输入图片长和宽：128\n",
    " * Epoch: 1000\n",
    " * Mini-Batch：32\n",
    " * 输入Tensor长度：100\n",
    " * Adam：Beta1：0.5，Beta2：0.999  "
   ]
  },
  {
   "cell_type": "code",
   "execution_count": 3,
   "metadata": {
    "collapsed": false
   },
   "outputs": [
    {
     "name": "stdout",
     "output_type": "stream",
     "text": [
      "{'img_dim': 128, 'lr': 5e-05, 'epoch': 10000, 'output': 'Output/', 'batch_size': 32, 'G_DIMENSION': 100, 'beta1': 0.5, 'beta2': 0.999, 'output_path': 'Output'}\n"
     ]
    }
   ],
   "source": [
    "import json\r\n",
    "import os\r\n",
    "configPath='configs/'\r\n",
    "if not os.path.exists(configPath):\r\n",
    "    !mkdir configs/\r\n",
    "path=configPath+'config0720.txt'\r\n",
    "##\r\n",
    "dictObj={\r\n",
    "    'img_dim':128,\r\n",
    "    'lr': 0.0001,\r\n",
    "    'epoch':  1000,\r\n",
    "    'output':\"Output/\",\r\n",
    "    'batch_size': 32,\r\n",
    "    'G_DIMENSION': 100,\r\n",
    "    'beta1':0.5,\r\n",
    "    'beta2':0.999,\r\n",
    "    'output_path': 'Output'\r\n",
    "}\r\n",
    "##\r\n",
    "jsObj = json.dumps(dictObj, indent=4)  # indent参数是换行和缩进\r\n",
    "with open(path,'w') as f:\r\n",
    "    f.write(jsObj) \r\n",
    "##\r\n",
    "with open(path) as f:\r\n",
    "    config = json.load(f)\r\n",
    "    print(config)\r\n"
   ]
  },
  {
   "cell_type": "markdown",
   "metadata": {
    "collapsed": false
   },
   "source": [
    "### 2.3 数据集预处理\n",
    "多线程处理，以裁切坐标(0,0)和(128,128)，将输入网络的图片裁切到128*128.用多线程处理"
   ]
  },
  {
   "cell_type": "code",
   "execution_count": 4,
   "metadata": {
    "collapsed": false
   },
   "outputs": [
    {
     "name": "stdout",
     "output_type": "stream",
     "text": [
      "2.0.2\n",
      "已处理图片数量：482\n",
      "已处理图片数量：482\n",
      "已处理图片数量：482\n",
      "已处理图片数量：481\n",
      "已处理图片数量：482\n",
      "已处理图片数量：482\n",
      "已处理图片数量：482\n",
      "已处理图片数量：482\n"
     ]
    }
   ],
   "source": [
    "from PIL import Image\n",
    "import os.path\n",
    "import os\n",
    "import threading\n",
    "import paddle\n",
    "from PIL import ImageFile\n",
    "print(paddle.__version__)\n",
    "ImageFile.LOAD_TRUNCATED_IMAGES = True\n",
    "\n",
    "'''多线程将图片缩放后再裁切到128*128分辨率'''\n",
    "#裁切图片宽度\n",
    "# w = 512\n",
    "#裁切图片高度\n",
    "# h = 512\n",
    "ww = config['img_dim']\n",
    "hh =  config['img_dim']\n",
    "#裁切点横坐标(以图片左上角为原点)\n",
    "x = 0\n",
    "#裁切点纵坐标\n",
    "y = 0\n",
    "\n",
    "def cutArray(l, num):\n",
    "  avg = len(l) / float(num)\n",
    "  o = []\n",
    "  last = 0.0\n",
    "\n",
    "  while last < len(l):\n",
    "    o.append(l[int(last):int(last + avg)])\n",
    "    last += avg\n",
    "\n",
    "  return o\n",
    "  \n",
    "def convertjpg(jpgfile,outdir,width=ww,height=hh):\n",
    "    img=Image.open(jpgfile)\n",
    "    (l,h) = img.size\n",
    "    rate = min(l,h) / width\n",
    "    try:\n",
    "        img = img.resize((int(l // rate),int(h // rate)),Image.BILINEAR)\n",
    "        img = img.crop((x,y,width+x,height+y))\n",
    "        img.save(os.path.join(outdir,os.path.basename(jpgfile)))\n",
    "    except Exception as e:\n",
    "        print(e)\n",
    "\n",
    "class thread(threading.Thread):\n",
    "    def __init__(self, threadID, inpath, outpath, files):\n",
    "        threading.Thread.__init__(self)\n",
    "        self.threadID = threadID\n",
    "        self.inpath = inpath\n",
    "        self.outpath = outpath\n",
    "        self.files = files\n",
    "    def run(self):\n",
    "        count = 0\n",
    "        try:\n",
    "            for file in self.files:\n",
    "                convertjpg(self.inpath + file,self.outpath)\n",
    "                count = count + 1\n",
    "        except Exception as e:\n",
    "            print(e)\n",
    "        print('已处理图片数量：' +  str(count))\n",
    "            \n",
    "if __name__ == '__main__':\n",
    "    inpath = '/home/aistudio/pic/'\n",
    "    outpath = '/home/aistudio/data/imgs/'\n",
    "    \n",
    "    if not os.path.exists(outpath):\n",
    "        os.mkdir(outpath)\n",
    "        files =  os.listdir(inpath)\n",
    "        files = cutArray(files,8)\n",
    "        T1 = thread(1, inpath, outpath, files[0])\n",
    "        T2 = thread(2, inpath, outpath, files[1])\n",
    "        T3 = thread(3, inpath, outpath, files[2])\n",
    "        T4 = thread(4, inpath, outpath, files[3])\n",
    "        T5 = thread(5, inpath, outpath, files[4])\n",
    "        T6 = thread(6, inpath, outpath, files[5])\n",
    "        T7 = thread(7, inpath, outpath, files[6])\n",
    "        T8 = thread(8, inpath, outpath, files[7])\n",
    "        \n",
    "        T1.start()\n",
    "        T2.start()\n",
    "        T3.start()\n",
    "        T4.start()\n",
    "        T5.start()\n",
    "        T6.start()\n",
    "        T7.start()\n",
    "        T8.start()\n",
    "        \n",
    "        T1.join()\n",
    "        T2.join()\n",
    "        T3.join()\n",
    "        T4.join()\n",
    "        T5.join()\n",
    "        T6.join()\n",
    "        T7.join()\n",
    "        T8.join()\n"
   ]
  },
  {
   "cell_type": "markdown",
   "metadata": {
    "collapsed": false
   },
   "source": [
    "## 3 模型组网\n",
    "\n",
    "### 3.1 定义数据预处理工具-Paddle.io.Dataset\n",
    "具体参考[Paddle.io.Dataset教程](https://www.paddlepaddle.org.cn/documentation/docs/zh/2.0-rc/api/paddle/io/Dataset_cn.html#dataset)"
   ]
  },
  {
   "cell_type": "code",
   "execution_count": 5,
   "metadata": {
    "collapsed": false
   },
   "outputs": [
    {
     "name": "stderr",
     "output_type": "stream",
     "text": [
      "/opt/conda/envs/python35-paddle120-env/lib/python3.7/site-packages/matplotlib/__init__.py:107: DeprecationWarning: Using or importing the ABCs from 'collections' instead of from 'collections.abc' is deprecated, and in 3.8 it will stop working\n",
      "  from collections import MutableMapping\n",
      "/opt/conda/envs/python35-paddle120-env/lib/python3.7/site-packages/matplotlib/rcsetup.py:20: DeprecationWarning: Using or importing the ABCs from 'collections' instead of from 'collections.abc' is deprecated, and in 3.8 it will stop working\n",
      "  from collections import Iterable, Mapping\n",
      "/opt/conda/envs/python35-paddle120-env/lib/python3.7/site-packages/matplotlib/colors.py:53: DeprecationWarning: Using or importing the ABCs from 'collections' instead of from 'collections.abc' is deprecated, and in 3.8 it will stop working\n",
      "  from collections import Sized\n",
      "2021-07-28 10:44:13,084 - INFO - font search path ['/opt/conda/envs/python35-paddle120-env/lib/python3.7/site-packages/matplotlib/mpl-data/fonts/ttf', '/opt/conda/envs/python35-paddle120-env/lib/python3.7/site-packages/matplotlib/mpl-data/fonts/afm', '/opt/conda/envs/python35-paddle120-env/lib/python3.7/site-packages/matplotlib/mpl-data/fonts/pdfcorefonts']\n",
      "2021-07-28 10:44:13,514 - INFO - generated new fontManager\n"
     ]
    }
   ],
   "source": [
    "import os\n",
    "import cv2\n",
    "import numpy as np\n",
    "# from skimage import io,color,transform\n",
    "import matplotlib.pyplot as plt\n",
    "import math\n",
    "import time\n",
    "import paddle\n",
    "from paddle.io import Dataset\n",
    "import six\n",
    "from PIL import Image \n",
    "import paddle.fluid as fluid\n",
    "from paddle.static import InputSpec\n",
    "paddle.enable_static()\n",
    "# img_dim = 512\n",
    "img_dim = config['img_dim']\n",
    "\n",
    "\n",
    "'''准备数据，定义Reader()'''\n",
    "PATH = '/home/aistudio/data/imgs/'\n",
    "\n",
    "class DataGenerater(Dataset):\n",
    "    \"\"\"\n",
    "    数据集定义\n",
    "    \"\"\"\n",
    "    def __init__(self,path=PATH):\n",
    "        \"\"\"\n",
    "        构造函数\n",
    "        \"\"\"\n",
    "        super(DataGenerater, self).__init__()\n",
    "        self.dir = path\n",
    "        self.datalist = os.listdir(PATH)\n",
    "        self.image_size = (img_dim,img_dim)\n",
    "    \n",
    "    # 每次迭代时返回数据和对应的标签\n",
    "    def __getitem__(self, idx):\n",
    "        return self._load_img(self.dir + self.datalist[idx])\n",
    "\n",
    "    # 返回整个数据集的总数\n",
    "    def __len__(self):\n",
    "        return len(self.datalist)\n",
    "    \n",
    "    def _load_img(self, path):\n",
    "        \"\"\"\n",
    "        统一的图像处理接口封装，用于规整图像大小和通道\n",
    "        \"\"\"\n",
    "        try:\n",
    "            img = cv2.imread(path)[:,:,:3]\n",
    "            img = cv2.resize(img,self.image_size)\n",
    "            img = cv2.cvtColor(img, cv2.COLOR_BGR2RGB)\n",
    "            #mg = cv2.cvtColor(img, cv2.COLOR_BGR2HSV)\n",
    "            # img_norm = np.zeros(img.shape)\n",
    "            # img = cv2.normalize(img, dst=img_norm, alpha=0, beta=255, norm_type=cv2.NORM_MINMAX)\n",
    "            img = np.array(img).astype('float32') # 转换成数组类型浮点型32位\n",
    "            img = img.transpose() # 矩阵转置\n",
    "            # print(img)\n",
    "            img = img/255.0\n",
    "        except Exception as e:\n",
    "                print(e)\n",
    "        return img"
   ]
  },
  {
   "cell_type": "code",
   "execution_count": 6,
   "metadata": {
    "collapsed": false
   },
   "outputs": [
    {
     "name": "stdout",
     "output_type": "stream",
     "text": [
      "(128, 128, 3)\n"
     ]
    },
    {
     "name": "stderr",
     "output_type": "stream",
     "text": [
      "/opt/conda/envs/python35-paddle120-env/lib/python3.7/site-packages/matplotlib/cbook/__init__.py:2349: DeprecationWarning: Using or importing the ABCs from 'collections' instead of from 'collections.abc' is deprecated, and in 3.8 it will stop working\n",
      "  if isinstance(obj, collections.Iterator):\n",
      "/opt/conda/envs/python35-paddle120-env/lib/python3.7/site-packages/matplotlib/cbook/__init__.py:2366: DeprecationWarning: Using or importing the ABCs from 'collections' instead of from 'collections.abc' is deprecated, and in 3.8 it will stop working\n",
      "  return list(data) if isinstance(data, collections.MappingView) else data\n",
      "/opt/conda/envs/python35-paddle120-env/lib/python3.7/site-packages/numpy/lib/type_check.py:546: DeprecationWarning: np.asscalar(a) is deprecated since NumPy v1.16, use a.item() instead\n",
      "  'a.item() instead', DeprecationWarning, stacklevel=1)\n"
     ]
    },
    {
     "data": {
      "image/png": "[encoded data removed]",
      "text/plain": [
       "<Figure size 1800x1800 with 1 Axes>"
      ]
     },
     "metadata": {},
     "output_type": "display_data"
    }
   ],
   "source": [
    "# CV2读入图片后为BGR模式，而plt画图则是RGB模式，这就导致图片颜色发生很大变化\r\n",
    "# 故采用cv2.cvtColor(img_BGR, cv2.COLOR_BGR2RGB)将读入的BGR图片转换为RGB图片\r\n",
    "img_BGR = cv2.imread(\"/home/aistudio/data/imgs/100001.png\")[:,:,:3]\r\n",
    "img_RGB = cv2.cvtColor(img_BGR, cv2.COLOR_BGR2RGB)\r\n",
    "# p = Image.open(\"work/imgs/kanasi_female_vcg_raw_page4_30.jpg\")\r\n",
    "print(img_RGB.shape)\r\n",
    "image = np.array(img_RGB)\r\n",
    "plt.figure(figsize=(25,25))\r\n",
    "plt.subplot(10, 10,  1)\r\n",
    "plt.imshow(image, vmin=-1, vmax=1)\r\n",
    "plt.axis('off')\r\n",
    "plt.xticks([])\r\n",
    "plt.yticks([])\r\n",
    "plt.subplots_adjust(wspace=0.1, hspace=0.1)\r\n",
    "plt.show()\r\n",
    "plt.close()"
   ]
  },
  {
   "cell_type": "markdown",
   "metadata": {
    "collapsed": false
   },
   "source": [
    "### 3.2 测试Paddle.io.DataLoader并输出图片"
   ]
  },
  {
   "cell_type": "code",
   "execution_count": 7,
   "metadata": {
    "collapsed": false
   },
   "outputs": [
    {
     "name": "stdout",
     "output_type": "stream",
     "text": [
      "var img : paddle.VarType.LOD_TENSOR.shape(-1, 3, 128, 128).astype(VarType.FP32)\n"
     ]
    }
   ],
   "source": [
    "train_dataset = DataGenerater()\r\n",
    "imgs = paddle.static.data(name='img', shape=[None,3,img_dim,img_dim], dtype='float32')\r\n",
    "print(imgs)"
   ]
  },
  {
   "cell_type": "code",
   "execution_count": 8,
   "metadata": {
    "collapsed": false
   },
   "outputs": [
    {
     "data": {
      "image/png": "[encoded data removed]",
      "text/plain": [
       "<Figure size 1800x1800 with 4 Axes>"
      ]
     },
     "metadata": {},
     "output_type": "display_data"
    }
   ],
   "source": [
    "\n",
    "train_loader = paddle.io.DataLoader(\n",
    "    train_dataset, \n",
    "    places=paddle.CPUPlace(), \n",
    "    feed_list = [imgs],\n",
    "    batch_size=config['batch_size'], \n",
    "    shuffle=True,\n",
    "    num_workers=2,\n",
    "    use_buffer_reader=True,\n",
    "    use_shared_memory=False,\n",
    "    # drop_last (bool) - 是否丢弃因数据集样本数不能被 batch_size 整除而产生的最后一个不完整的mini-batch，为 batch_sampler 的替代参数\n",
    "    drop_last=True,\n",
    "    )\n",
    "\n",
    "for batch_id, data in enumerate(train_loader()):\n",
    "    plt.figure(figsize=(25,25))\n",
    "    try:\n",
    "        for i in range(4):\n",
    "            # 1,3,512,512 -> 512,512,3\n",
    "            image = np.array(data[0][i])[0].transpose((2,1,0))\n",
    "            image=cv2.cvtColor(image,cv2.COLOR_BGR2RGB)\n",
    "            plt.subplot(10, 10, i + 1)\n",
    "            plt.imshow(image, vmin=-1, vmax=1)\n",
    "            plt.axis('off')\n",
    "            plt.xticks([])\n",
    "            plt.yticks([])\n",
    "            plt.subplots_adjust(wspace=0.1, hspace=0.1)\n",
    "        plt.suptitle('\\n Training Images',fontsize=30)\n",
    "        plt.show()\n",
    "        break\n",
    "    except IOError:\n",
    "        print(IOError)\n"
   ]
  },
  {
   "cell_type": "markdown",
   "metadata": {
    "collapsed": false
   },
   "source": [
    "### 3.3 权重初始化\n",
    "参考在 DCGAN 论文中，作者指定所有模型权重应从均值为0、标准差为0.02的正态分布中随机初始化。  \n",
    "在paddle.nn中，调用fluid.nn.initializer.Normal实现initialize设置"
   ]
  },
  {
   "cell_type": "code",
   "execution_count": 9,
   "metadata": {
    "collapsed": false
   },
   "outputs": [],
   "source": [
    "conv_initializer=paddle.nn.initializer.Normal(mean=0.0, std=0.02)\r\n",
    "bn_initializer=paddle.nn.initializer.Normal(mean=1.0, std=0.02)\r\n"
   ]
  },
  {
   "cell_type": "markdown",
   "metadata": {
    "collapsed": false
   },
   "source": [
    "### 3.4 判别器\n",
    "如上文所述，生成器$D$是一个二进制分类网络，它以图像作为输入，输出图像是真实的（相对应$G$生成的假样本）的概率。输入$Shape$为[3,128,128]的RGB图像，通过一系列的$Conv2d$，$BatchNorm2d$和$LeakyReLU$层对其进行处理，然后通过全连接层输出的神经元个数为2，对应两个标签的预测概率。\n",
    "\n",
    "* 将BatchNorm批归一化中momentum参数设置为0.5\n",
    "* 将判别器(D)激活函数leaky_relu的alpha参数设置为0.2\n",
    "\n",
    "> 输入:  为大小128*128的RGB三通道图片  \n",
    "> 输出:  经过一层全连接层最后为shape为[batch_size,2]的Tensor"
   ]
  },
  {
   "cell_type": "code",
   "execution_count": 10,
   "metadata": {
    "collapsed": false
   },
   "outputs": [],
   "source": [
    "import paddle\n",
    "import paddle.nn as nn\n",
    "import paddle.nn.functional as F\n",
    "img_dim=config['img_dim']\n",
    "class Discriminator(paddle.nn.Layer):\n",
    "    def __init__(self,img_dim=img_dim):\n",
    "        super(Discriminator, self).__init__()\n",
    "        # class paddle.nn.Conv2D(in_channels, out_channels, kernel_size, stride=1, padding=0, dilation=1, groups=1, padding_mode='zeros', weight_attr=None, bias_attr=None, data_format='NCHW')\n",
    "        # 在判别器中第一层卷积和第二层卷积之间不需要用batchNorm\n",
    "        # 3*512*512\n",
    "        self.conv_1 = nn.Conv2D(\n",
    "            3,64,4,2,1,\n",
    "            bias_attr=False,weight_attr=paddle.ParamAttr(name=\"d_conv_weight_1_\",initializer=conv_initializer)\n",
    "            )\n",
    "        # 64*256*256\n",
    "        self.conv_2 = nn.Conv2D(\n",
    "            64,img_dim,4,2,1,\n",
    "            #64,128,4,2,1,\n",
    "            bias_attr=False,weight_attr=paddle.ParamAttr(name=\"d_conv_weight_2_\",initializer=conv_initializer)\n",
    "            )\n",
    "        self.bn_2 = nn.BatchNorm2D(\n",
    "            img_dim,\n",
    "            #128，\n",
    "            weight_attr=paddle.ParamAttr(name=\"d_2_bn_weight_\",initializer=bn_initializer),momentum=0.8\n",
    "            )\n",
    "        # 128*128*128\n",
    "        self.conv_3 = nn.Conv2D(\n",
    "            #128,256,4,2,1,\n",
    "            img_dim,256,4,2,1,\n",
    "            bias_attr=False,weight_attr=paddle.ParamAttr(name=\"d_conv_weight_3_\",initializer=conv_initializer)\n",
    "            )\n",
    "        self.bn_3 = nn.BatchNorm2D(\n",
    "            256,\n",
    "            weight_attr=paddle.ParamAttr(name=\"d_3_bn_weight_\",initializer=bn_initializer),momentum=0.8\n",
    "            )\n",
    "        # 256*64*64\n",
    "        self.conv_4 = nn.Conv2D(\n",
    "            256,512,4,2,1,\n",
    "            bias_attr=False,weight_attr=paddle.ParamAttr(name=\"d_conv_weight_4_\",initializer=conv_initializer)\n",
    "            )\n",
    "        self.bn_4 = nn.BatchNorm2D(\n",
    "            512,\n",
    "            weight_attr=paddle.ParamAttr(name=\"d_4_bn_weight_\",initializer=bn_initializer),momentum=0.8\n",
    "            )\n",
    "        self.conv_5 = nn.Conv2D(\n",
    "            512,1024,4,2,1,\n",
    "            bias_attr=False,weight_attr=paddle.ParamAttr(name=\"d_conv_weight_5_\",initializer=conv_initializer)\n",
    "            )\n",
    "        self.bn_5 = nn.BatchNorm2D(\n",
    "            1024,\n",
    "            weight_attr=paddle.ParamAttr(name=\"d_5_bn_weight_\",initializer=bn_initializer),momentum=0.8\n",
    "            )\n",
    "        self.conv_6 = nn.Conv2D(\n",
    "            1024,1,4,1,0,\n",
    "            bias_attr=False,weight_attr=paddle.ParamAttr(name=\"d_conv_weight_6_\",initializer=conv_initializer)\n",
    "        )\n",
    "        # 1*1*1\n",
    "    \n",
    "    def forward(self, x):\n",
    "        x = self.conv_1(x)\n",
    "        x = F.leaky_relu(x,negative_slope=0.2)\n",
    "        x = self.conv_2(x)\n",
    "        x = self.bn_2(x)\n",
    "        x = F.leaky_relu(x,negative_slope=0.2)\n",
    "        x = self.conv_3(x)\n",
    "        x = self.bn_3(x)\n",
    "        x = F.leaky_relu(x,negative_slope=0.2)\n",
    "        x = self.conv_4(x)\n",
    "        x = self.bn_4(x)\n",
    "        x = F.leaky_relu(x,negative_slope=0.2)\n",
    "        x = self.conv_5(x)\n",
    "        x = self.bn_5(x)\n",
    "        x = F.leaky_relu(x,negative_slope=0.2)\n",
    "        x = self.conv_6(x)\n",
    "        return x"
   ]
  },
  {
   "cell_type": "markdown",
   "metadata": {
    "collapsed": false
   },
   "source": [
    "# 采用LSGAN\n",
    "去掉判别器网络的sigmoid函数"
   ]
  },
  {
   "cell_type": "markdown",
   "metadata": {
    "collapsed": false
   },
   "source": [
    "### 3.5 生成器\n",
    "生成器$G$旨在映射潜在空间矢量$z$到数据空间。由于我们的数据是图像，因此转换$z$到数据空间意味着最终创建具有与训练图像相同大小[3,128,128]的RGB图像。在网络设计中，这是通过一系列二维卷积转置层来完成的，每个层都与$BatchNorm$层和$ReLu$激活函数。生成器的输出通过$tanh$函数输出，以使其返回到输入数据范围[−1,1]。值得注意的是，在卷积转置层之后存在$BatchNorm$函数，因为这是DCGAN论文的关键改进。这些层有助于训练过程中的梯度更好地流动。  \n",
    "\n",
    "* 将$BatchNorm$批归一化中$momentum$参数设置为0.5\n",
    "\n",
    "> 输入:Tensor的Shape为[batch_size,100]其中每个数值大小为0~1之间的float32随机数  \n",
    "> 输出:3x128*128RGB三通道图片\n"
   ]
  },
  {
   "cell_type": "code",
   "execution_count": 11,
   "metadata": {
    "collapsed": false
   },
   "outputs": [],
   "source": [
    "import paddle\n",
    "import paddle.nn as nn\n",
    "import paddle.nn.functional as F\n",
    "try:\n",
    "    G_DIMENSION=config['G_DIMENSION']\n",
    "except:\n",
    "    G_DIMENSION=100\n",
    "class Generator(paddle.nn.Layer):\n",
    "    def __init__(self,G_DIMENSION=G_DIMENSION):\n",
    "        super(Generator, self).__init__()\n",
    "        self.conv_1 = nn.Conv2DTranspose(\n",
    "            #100,1024,4,1,0,\n",
    "            G_DIMENSION,1024,4,1,0,\n",
    "            bias_attr=False,weight_attr=paddle.ParamAttr(name=\"g_dconv_weight_1_\",initializer=conv_initializer)\n",
    "            )\n",
    "        self.bn_1 = nn.BatchNorm2D(\n",
    "            1024,\n",
    "            weight_attr=paddle.ParamAttr(name=\"g_1_bn_weight_\",initializer=bn_initializer),momentum=0.8\n",
    "            )\n",
    "        # 512 * 32 * 32\n",
    "        self.conv_2 = nn.Conv2DTranspose(\n",
    "            1024,512,4,2,1,\n",
    "            bias_attr=False,weight_attr=paddle.ParamAttr(name=\"g_dconv_weight_2_\",initializer=conv_initializer)\n",
    "            )\n",
    "        self.bn_2 = nn.BatchNorm2D(\n",
    "            512,\n",
    "            weight_attr=paddle.ParamAttr(name=\"g_2_bn_weight_\",initializer=bn_initializer),momentum=0.8\n",
    "            )\n",
    "        # 256 * 64 * 64\n",
    "        self.conv_3 = nn.Conv2DTranspose(\n",
    "            512,256,4,2,1,\n",
    "            bias_attr=False,weight_attr=paddle.ParamAttr(name=\"g_dconv_weight_3_\",initializer=conv_initializer)\n",
    "            )\n",
    "        self.bn_3 = nn.BatchNorm2D(\n",
    "            256,\n",
    "            weight_attr=paddle.ParamAttr(name=\"g_3_bn_weight_\",initializer=bn_initializer),momentum=0.8\n",
    "            )\n",
    "        # 128 * 128 * 128\n",
    "        self.conv_4 = nn.Conv2DTranspose(\n",
    "            256,128,4,2,1,\n",
    "            bias_attr=False,weight_attr=paddle.ParamAttr(name=\"g_dconv_weight_4_\",initializer=conv_initializer)\n",
    "            )\n",
    "        self.bn_4 = nn.BatchNorm2D(\n",
    "            128,\n",
    "            weight_attr=paddle.ParamAttr(name=\"g_4_bn_weight_\",initializer=bn_initializer),momentum=0.8\n",
    "            )\n",
    "        self.conv_5 = nn.Conv2DTranspose(\n",
    "            128,64,4,2,1,\n",
    "            bias_attr=False,weight_attr=paddle.ParamAttr(name=\"g_dconv_weight_5_\",initializer=conv_initializer)\n",
    "            )\n",
    "        self.bn_5 = nn.BatchNorm2D(\n",
    "            64,\n",
    "            weight_attr=paddle.ParamAttr(name=\"g_5_bn_weight_\",initializer=bn_initializer),momentum=0.8\n",
    "            )\n",
    "        # 64 * 256 * 256\n",
    "        self.conv_6 = nn.Conv2DTranspose(\n",
    "            64,3,4,2,1,\n",
    "            bias_attr=False,weight_attr=paddle.ParamAttr(name=\"g_dconv_weight_6_\",initializer=conv_initializer)\n",
    "            )\n",
    "        # 3 * 64 * 64\n",
    "        self.tanh = paddle.nn.Tanh()\n",
    "    \n",
    "    def forward(self, x):\n",
    "        x = self.conv_1(x)\n",
    "        x = self.bn_1(x)\n",
    "        x = F.relu(x)\n",
    "        x = self.conv_2(x)\n",
    "        x = self.bn_2(x)\n",
    "        x = F.relu(x)\n",
    "        x = self.conv_3(x)\n",
    "        x = self.bn_3(x)\n",
    "        x = F.relu(x)\n",
    "        x = self.conv_4(x)\n",
    "        x = self.bn_4(x)\n",
    "        x = F.relu(x)\n",
    "        x = self.conv_5(x)\n",
    "        x = self.bn_5(x)\n",
    "        x = F.relu(x)\n",
    "        x = self.conv_6(x)\n",
    "        print('conv_6',x.shape)\n",
    "        x = self.tanh(x)\n",
    "        return x"
   ]
  },
  {
   "cell_type": "markdown",
   "metadata": {
    "collapsed": false
   },
   "source": [
    "### 3.6 损失函数\n",
    "选用BCELoss,公式如下:\n",
    "\n",
    "  $Out = -1 * (label * log(input) + (1 - label) * log(1 - input))$\n",
    " \n",
    " LSGAN将BCELoss改成MSELoss"
   ]
  },
  {
   "cell_type": "code",
   "execution_count": 12,
   "metadata": {
    "collapsed": false
   },
   "outputs": [],
   "source": [
    "###损失函数\n",
    "# loss = paddle.nn.BCELoss()\n",
    "# 改为\n",
    "loss = paddle.nn.MSELoss()"
   ]
  },
  {
   "cell_type": "markdown",
   "metadata": {
    "collapsed": false
   },
   "source": [
    "## 4 模型训练\n",
    " \n",
    "训练过程中的每一次迭代，生成器和判别器分别设置自己的迭代次数。为了避免判别器快速收敛到0，本教程默认每迭代一次，训练 1次判别器，4次生成器。"
   ]
  },
  {
   "cell_type": "code",
   "execution_count": null,
   "metadata": {
    "collapsed": false
   },
   "outputs": [],
   "source": [
    "import IPython.display as display\n",
    "import warnings\n",
    "from visualdl import LogWriter\n",
    "import paddle.optimizer as optim\n",
    "warnings.filterwarnings('ignore')\n",
    "\n",
    "#vdl_train=LogWriter('vdl_dygraph/train')\n",
    "\n",
    "# img_dim = 512\n",
    "img_dim = config['img_dim']\n",
    "lr =config['lr']\n",
    "epoch = config['epoch']\n",
    "output = config['output']\n",
    "batch_size = config['batch_size']\n",
    "G_DIMENSION = config['G_DIMENSION']\n",
    "beta1 = config['beta1']\n",
    "beta2 = config['beta2']\n",
    "output_path = config['output_path']\n",
    "#device = paddle.set_device('gpu')\n",
    "paddle.disable_static()\n",
    "\n",
    "real_label = 1.\n",
    "fake_label = 0.\n",
    "\n",
    "netD = Discriminator()\n",
    "netG = Generator()\n",
    "optimizerD = optim.Adam(parameters=netD.parameters(), learning_rate=lr, beta1=beta1, beta2=beta2)\n",
    "optimizerG = optim.Adam(parameters=netG.parameters(), learning_rate=lr, beta1=beta1, beta2=beta2)\n",
    "##\n",
    "state_dict = paddle.load(\"/home/aistudio/work/generator072502.params\")\n",
    "netG.set_state_dict(state_dict)\n",
    "###训练过程\n",
    "losses = [[], []]\n",
    "#plt.ion()\n",
    "now = 0\n",
    "for pass_id in range(epoch):\n",
    "    # enumerate()函数将一个可遍历的数据对象组合成一个序列列表\n",
    "    for batch_id, data in enumerate(train_loader()):\n",
    "        #训练判别器 \n",
    "        optimizerD.clear_grad()\n",
    "        real_cpu = data[0]\n",
    "        label = paddle.full((batch_size,1,1,1),real_label,dtype='float32')\n",
    "        output = netD(real_cpu)\n",
    "        errD_real = loss(output,label)\n",
    "        errD_real.backward()\n",
    "        optimizerD.step()\n",
    "        optimizerD.clear_grad()\n",
    "\n",
    "        noise = paddle.randn([batch_size,G_DIMENSION,1,1],'float32')\n",
    "        fake = netG(noise)\n",
    "        label = paddle.full((batch_size,1,1,1),fake_label,dtype='float32')\n",
    "        output = netD(fake.detach())\n",
    "        errD_fake = loss(output,label)\n",
    "        errD_fake.backward()\n",
    "        optimizerD.step()\n",
    "        optimizerD.clear_grad()\n",
    "\n",
    "        errD = errD_real + errD_fake\n",
    "        \n",
    "        losses[0].append(errD.numpy()[0])\n",
    "        ###训练生成器\n",
    "        optimizerG.clear_grad()\n",
    "        noise = paddle.randn([batch_size,G_DIMENSION,1,1],'float32')\n",
    "        fake = netG(noise)\n",
    "        label = paddle.full((batch_size,1,1,1),real_label,dtype=np.float32,)\n",
    "        output = netD(fake)\n",
    "        errG = loss(output,label)\n",
    "        errG.backward()\n",
    "        optimizerG.step()\n",
    "        optimizerG.clear_grad()\n",
    "        ###训练生成器\n",
    "        optimizerG.clear_grad()\n",
    "        noise = paddle.randn([batch_size,G_DIMENSION,1,1],'float32')\n",
    "        fake = netG(noise)\n",
    "        label = paddle.full((batch_size,1,1,1),real_label,dtype=np.float32,)\n",
    "        output = netD(fake)\n",
    "        errG = loss(output,label)\n",
    "        errG.backward()\n",
    "        optimizerG.step()\n",
    "        optimizerG.clear_grad()\n",
    "        ###训练生成器\n",
    "        optimizerG.clear_grad()\n",
    "        noise = paddle.randn([batch_size,G_DIMENSION,1,1],'float32')\n",
    "        fake = netG(noise)\n",
    "        label = paddle.full((batch_size,1,1,1),real_label,dtype=np.float32,)\n",
    "        output = netD(fake)\n",
    "        errG = loss(output,label)\n",
    "        errG.backward()\n",
    "        optimizerG.step()\n",
    "        optimizerG.clear_grad()\n",
    "        \n",
    "        losses[1].append(errG.numpy()[0])\n",
    "        if  batch_id % 400 == 0 or pass_id%400==0:\n",
    "            \n",
    "            paddle.save(netG.state_dict(), \"/home/aistudio/checkpoint/generator\"+str(pass_id)+\".params\")\n",
    "        if batch_id % 400 == 0:\n",
    "            \n",
    "            if not os.path.exists(output_path):\n",
    "                os.makedirs(output_path)\n",
    "            # 每轮的生成结果\n",
    "            generated_image = netG(noise).numpy()\n",
    "            ##\n",
    "            #vdl_train.add_scalar(tag=\"train/D-loss\", step=batch_id, value=errD.numpy()[0])\n",
    "            #vdl_train.add_scalar(tag=\"train/G-Loss\", step=batch_id, value=errG.numpy()[0])\n",
    "            \n",
    "            #vdl_train.add_image(tag=\"generated_image\", img=generated_image,step=batch_id)\n",
    "            ##\n",
    "            imgs = []\n",
    "            plt.figure(figsize=(25,25))\n",
    "            try:\n",
    "                for i in range(4):\n",
    "                    image = generated_image[i].transpose()\n",
    "                    image = np.where(image > 0, image, 0)\n",
    "                    \n",
    "                    image=cv2.cvtColor(image,cv2.COLOR_BGR2RGB)\n",
    "                    plt.subplot(10, 10, i + 1)\n",
    "                    plt.imshow(image, vmin=-1, vmax=1)\n",
    "                    plt.axis('off')\n",
    "                    plt.xticks([])\n",
    "                    plt.yticks([])\n",
    "                    plt.subplots_adjust(wspace=0.1, hspace=0.1)\n",
    "                msg = 'Epoch ID={0} Batch ID={1} \\n\\n D-Loss={2} G-Loss={3}'.format(pass_id, batch_id, errD.numpy()[0], errG.numpy()[0])\n",
    "                plt.suptitle(msg,fontsize=20)\n",
    "                plt.draw()\n",
    "                plt.savefig('{}/{:04d}_{:04d}.png'.format(output_path, pass_id, batch_id),bbox_inches='tight')\n",
    "                plt.pause(0.01)\n",
    "                display.clear_output(wait=True)\n",
    "            except IOError:\n",
    "\n",
    "                print(IOError)\n",
    "    print(\"epoch:{}/{}\".format(pass_id,epoch))\n",
    "\n",
    "paddle.save(netG.state_dict(), \"/home/aistudio/work/generator.params\")\n",
    "\n",
    "plt.close()\n"
   ]
  },
  {
   "cell_type": "code",
   "execution_count": null,
   "metadata": {
    "collapsed": false
   },
   "outputs": [],
   "source": [
    "plt.figure(figsize=(15, 6))\n",
    "x = np.arange(len(losses[0]))\n",
    "plt.title('Generator and Discriminator Loss During Training')\n",
    "plt.xlabel('Number of Batch')\n",
    "plt.plot(x,np.array(losses[0]),label='D Loss')\n",
    "plt.plot(x,np.array(losses[1]),label='G Loss')\n",
    "plt.legend()\n",
    "plt.savefig('/home/aistudio/work/Generator and Discriminator Loss During Training.png')\n",
    "plt.show()"
   ]
  },
  {
   "cell_type": "code",
   "execution_count": null,
   "metadata": {
    "collapsed": false
   },
   "outputs": [],
   "source": [
    "\r\n",
    "paddle.save(netG.state_dict(), \"/home/aistudio/work/generator072502.params\")"
   ]
  },
  {
   "cell_type": "markdown",
   "metadata": {
    "collapsed": false
   },
   "source": [
    "## 6 模型预测\n",
    "### 输入随机数让生成器$G$生成随机风景图片\n",
    "生成的RGB三通道128*128的图片路径位于“worl/Generate/”"
   ]
  },
  {
   "cell_type": "code",
   "execution_count": null,
   "metadata": {
    "collapsed": false
   },
   "outputs": [],
   "source": [
    "import paddle\n",
    "import paddle.nn as nn\n",
    "import numpy as np\n",
    "import matplotlib.pyplot as plt\n",
    "import IPython.display as display\n",
    "##\n",
    "conv_initializer=paddle.nn.initializer.Normal(mean=0.0, std=0.02)\n",
    "bn_initializer=paddle.nn.initializer.Normal(mean=1.0, std=0.02)\n",
    "##\n",
    "device = paddle.set_device('gpu')\n",
    "paddle.disable_static(device)\n",
    "try:\n",
    "    \n",
    "    netG = Generator()\n",
    "    state_dict = paddle.load(\"/home/aistudio/work/generator0725.params\")\n",
    "    netG.set_state_dict(state_dict)\n",
    "    noise = paddle.randn([100,100,1,1],'float32')\n",
    "    # generated_image = generate(noise).numpy()\n",
    "    generated_image = netG(noise).numpy()\n",
    "    imgs = []\n",
    "    plt.figure(figsize=(25,25))\n",
    "    for i in range(8):\n",
    "        image = generated_image[i].transpose()\n",
    "        image = np.where(image > 0, image, 0)\n",
    "        plt.subplot(10, 10, i + 1)\n",
    "        plt.imshow(image, vmin=-1, vmax=1)\n",
    "        plt.axis('off')\n",
    "        plt.xticks([])\n",
    "        plt.yticks([])\n",
    "        plt.subplots_adjust(wspace=0.1, hspace=0.1)\n",
    "    plt.draw()\n",
    "    plt.savefig('generate072502.png',bbox_inches='tight')\n",
    "    plt.pause(0.01)\n",
    "    display.clear_output(wait=True)\n",
    "except IOError:\n",
    "    print(IOError)\n"
   ]
  },
  {
   "cell_type": "code",
   "execution_count": null,
   "metadata": {
    "collapsed": false
   },
   "outputs": [],
   "source": [
    "# !mv work/Generator\\ and\\ Discriminator\\ Loss\\ During\\ Training.png Generator\\ and\\ Discriminator\\ Loss\\ During\\ Training.png"
   ]
  }
 ],
 "metadata": {
  "kernelspec": {
   "display_name": "PaddlePaddle 2.0.0b0 (Python 3.5)",
   "language": "python",
   "name": "py35-paddle1.2.0"
  },
  "language_info": {
   "codemirror_mode": {
    "name": "ipython",
    "version": 3
   },
   "file_extension": ".py",
   "mimetype": "text/x-python",
   "name": "python",
   "nbconvert_exporter": "python",
   "pygments_lexer": "ipython3",
   "version": "3.7.4"
  }
 },
 "nbformat": 4,
 "nbformat_minor": 1
}
